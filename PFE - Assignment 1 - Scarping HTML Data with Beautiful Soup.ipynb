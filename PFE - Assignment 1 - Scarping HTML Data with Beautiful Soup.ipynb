{
 "cells": [
  {
   "cell_type": "code",
   "execution_count": 2,
   "metadata": {},
   "outputs": [
    {
     "name": "stdout",
     "output_type": "stream",
     "text": [
      "Enter - http://py4e-data.dr-chuck.net/comments_24407.html\n",
      "2561\n"
     ]
    }
   ],
   "source": [
    "from urllib.request import urlopen\n",
    "from bs4 import BeautifulSoup\n",
    "import ssl\n",
    "\n",
    "\n",
    "# Scraping Numbers from HTML using BeautifulSoup In this assignment you\n",
    "# will write a Python program similar to http://www.pythonlearn.com/code/urllink2.py.\n",
    "# The program will use urllib to read the HTML from the data files\n",
    "# below, and parse the data, extracting numbers and compute the sum\n",
    "# of the numbers in the file.\n",
    "#\n",
    "# We provide two files for this assignment. One is a sample file where\n",
    "# we give you the sum for your testing and the other is the actual data\n",
    "# you need to process for the assignment.\n",
    "#\n",
    "# Sample data: http://python-data.dr-chuck.net/comments_42.html (Sum=2553)\n",
    "# Actual data: http://python-data.dr-chuck.net/comments_190015.html (Sum ends with 61)\n",
    "# You do not need to save these files to your folder since your program\n",
    "# will read the data directly from the URL. Note: Each student will have\n",
    "# a distinct data url for the assignment - so only use your own data url for analysis.\n",
    "# Data Format\n",
    "# The file is a table of names and comment counts. You can ignore most of\n",
    "# the data in the file except for lines like the following:\n",
    "#\n",
    "# <tr><td>Modu</td><td><span class=\"comments\">90</span></td></tr>\n",
    "# <tr><td>Kenzie</td><td><span class=\"comments\">88</span></td></tr>\n",
    "# <tr><td>Hubert</td><td><span class=\"comments\">87</span></td></tr>\n",
    "# You are to find all the <span> tags in the file and pull out the\n",
    "# numbers from the tag and sum the numbers.\n",
    "# Look at the sample code provided. It shows how to find all of a certain\n",
    "# kind of tag, loop through the tags and extract the various aspects of the tags.\n",
    "#\n",
    "#\n",
    "#    # Retrieve all of the anchor tags\n",
    "#    tags = soup('a')\n",
    "#    for tag in tags:\n",
    "#        # Look at the parts of a tag\n",
    "#        print 'TAG:',tag\n",
    "#        print 'URL:',tag.get('href', None)\n",
    "#        print 'Contents:',tag.contents[0]\n",
    "#        print 'Attrs:',tag.attrs\n",
    "#\n",
    "# You need to adjust this code to look for span tags and pull out\n",
    "# the text content of the span tag, convert them to integers and\n",
    "# add them up to complete the assignment.\n",
    "#\n",
    "# Sample Execution\n",
    "# $ python solution.py\n",
    "# Enter - http://python-data.dr-chuck.net/comments_42.html\n",
    "# Count 50\n",
    "# Sum 2482\n",
    "\n",
    "# Ignore SSL certificate errors\n",
    "ctx = ssl.create_default_context()\n",
    "ctx.check_hostname = False\n",
    "ctx.verify_mode = ssl.CERT_NONE\n",
    "\n",
    "url = input('Enter - ')\n",
    "html = urlopen(url, context = ctx).read()\n",
    "soup = BeautifulSoup(html, 'html.parser')\n",
    "\n",
    "#Retrieve the span tags\n",
    "tags = soup('span')\n",
    "numbers = []\n",
    "\n",
    "for tag in tags:\n",
    "    numbers.append(int(tag.string))\n",
    "print(sum(numbers))\n"
   ]
  },
  {
   "cell_type": "code",
   "execution_count": null,
   "metadata": {
    "collapsed": true
   },
   "outputs": [],
   "source": []
  }
 ],
 "metadata": {
  "kernelspec": {
   "display_name": "Python 3",
   "language": "python",
   "name": "python3"
  },
  "language_info": {
   "codemirror_mode": {
    "name": "ipython",
    "version": 3
   },
   "file_extension": ".py",
   "mimetype": "text/x-python",
   "name": "python",
   "nbconvert_exporter": "python",
   "pygments_lexer": "ipython3",
   "version": "3.6.1"
  }
 },
 "nbformat": 4,
 "nbformat_minor": 2
}
