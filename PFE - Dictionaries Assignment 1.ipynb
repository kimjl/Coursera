{
 "cells": [
  {
   "cell_type": "code",
   "execution_count": 13,
   "metadata": {},
   "outputs": [
    {
     "name": "stdout",
     "output_type": "stream",
     "text": [
      "Enter file:mbox-short.txt\n",
      "cwen@iupui.edu 5\n"
     ]
    }
   ],
   "source": [
    "#9.4 Write a program to read through the mbox-short.txt and figure out who has the sent the greatest number of mail messages. \n",
    "    #The program looks for 'From ' lines and takes the second word of those lines as the person who sent the mail. \n",
    "    #The program creates a Python dictionary that maps the sender's mail address to a count of the number of times they appear \n",
    "    #in the file. After the dictionary is produced, the program reads through the dictionary using a maximum loop to find \n",
    "    #the most prolific committer.\n",
    "    \n",
    "name = input(\"Enter file:\")\n",
    "if len(name) < 1 : name = \"mbox-short.txt\"\n",
    "handle = open(name)\n",
    "\n",
    "email = dict()\n",
    "\n",
    "#stores emails and the amount of time they appear as a key value pair in a dictionary\n",
    "for line in handle:\n",
    "    if line.startswith('From '):\n",
    "        line = line.split()\n",
    "        address = line[1]\n",
    "        email[address] = email.get(address, 0) + 1\n",
    "#print(email)\n",
    "\n",
    "#finds the email that repeats the most in our dictionary created from above\n",
    "biggest = None\n",
    "for key in email:\n",
    "    if biggest is None or email[key] > biggest:\n",
    "        biggest = email[key]\n",
    "        sender = key\n",
    "print(sender, biggest)\n",
    "        \n",
    "    \n",
    "    "
   ]
  },
  {
   "cell_type": "code",
   "execution_count": null,
   "metadata": {
    "collapsed": true
   },
   "outputs": [],
   "source": []
  }
 ],
 "metadata": {
  "kernelspec": {
   "display_name": "Python 3",
   "language": "python",
   "name": "python3"
  },
  "language_info": {
   "codemirror_mode": {
    "name": "ipython",
    "version": 3
   },
   "file_extension": ".py",
   "mimetype": "text/x-python",
   "name": "python",
   "nbconvert_exporter": "python",
   "pygments_lexer": "ipython3",
   "version": "3.6.1"
  }
 },
 "nbformat": 4,
 "nbformat_minor": 2
}
