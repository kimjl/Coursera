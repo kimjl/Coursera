{
 "cells": [
  {
   "cell_type": "code",
   "execution_count": 18,
   "metadata": {},
   "outputs": [
    {
     "name": "stdout",
     "output_type": "stream",
     "text": [
      "Enter file name: mbox-short.txt\n",
      "Average spam confidence: 0.7507185185185187\n"
     ]
    }
   ],
   "source": [
    "#7.2 Write a program that prompts for a file name, then opens that file and reads through the file, looking for lines of \n",
    "    #the form: X-DSPAM-Confidence:    0.8475\n",
    "    #Count these lines and extract the floating point values from each of the lines and compute the average of those \n",
    "    #values and produce an output as shown below. Do not use the sum() function or a variable named sum in your solution.\n",
    "    #You can download the sample data at http://www.py4e.com/code3/mbox-short.txt when you are testing below enter \n",
    "    #mbox-short.txt as the file name.\n",
    "    \n",
    "# Use the file name mbox-short.txt as the file name\n",
    "fname = input(\"Enter file name: \")\n",
    "fh = open(fname)\n",
    "count = 0\n",
    "tot = 0\n",
    "for line in fh:\n",
    "    line = line.rstrip()\n",
    "    if not line.startswith(\"X-DSPAM-Confidence:\"): \n",
    "        continue\n",
    "    count = count + 1\n",
    "    #print(line)\n",
    "    #how long the line string is \n",
    "    #print(len(line))\n",
    "    #getting the float number\n",
    "    flt = float(line[20:26])\n",
    "    tot = tot + flt\n",
    "    #print('This is the float number:', flt)\n",
    "    \n",
    "    #print('The total so far in line', count, 'is', tot)\n",
    "print('Average spam confidence:', (tot/count))\n",
    "    \n",
    "#print(count)\n",
    "\n",
    "#print(\"Done\")\n"
   ]
  },
  {
   "cell_type": "code",
   "execution_count": null,
   "metadata": {
    "collapsed": true
   },
   "outputs": [],
   "source": []
  }
 ],
 "metadata": {
  "kernelspec": {
   "display_name": "Python 3",
   "language": "python",
   "name": "python3"
  },
  "language_info": {
   "codemirror_mode": {
    "name": "ipython",
    "version": 3
   },
   "file_extension": ".py",
   "mimetype": "text/x-python",
   "name": "python",
   "nbconvert_exporter": "python",
   "pygments_lexer": "ipython3",
   "version": "3.6.1"
  }
 },
 "nbformat": 4,
 "nbformat_minor": 2
}
