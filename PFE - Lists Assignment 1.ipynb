{
 "cells": [
  {
   "cell_type": "code",
   "execution_count": 42,
   "metadata": {},
   "outputs": [
    {
     "name": "stdout",
     "output_type": "stream",
     "text": [
      "Enter file name: romeo.txt\n",
      "['Arise', 'But', 'It', 'Juliet', 'Who', 'already', 'and', 'breaks', 'east', 'envious', 'fair', 'grief', 'is', 'kill', 'light', 'moon', 'pale', 'sick', 'soft', 'sun', 'the', 'through', 'what', 'window', 'with', 'yonder']\n"
     ]
    }
   ],
   "source": [
    "#8.4 Open the file romeo.txt and read it line by line. For each line, split the line into a list of words using the \n",
    "    #split() method. The program should build a list of words. For each word on each line check to see if the word is \n",
    "    #already in the list and if not append it to the list. When the program completes, sort and print the resulting words \n",
    "    #in alphabetical order.\n",
    "    #You can download the sample data at http://www.py4e.com/code3/romeo.txt\n",
    "    \n",
    "fname = input(\"Enter file name: \")\n",
    "fh = open(fname)\n",
    "word_list = []\n",
    "\n",
    "#Turning each line into a list\n",
    "for line in fh:\n",
    "    line = line.split()\n",
    "    #Looks through each element in the list\n",
    "    for word in line:\n",
    "        #Checks to see if the word repeats in the list. If it is repeated, we skip, otherwise we append it to our word_list\n",
    "        if word in word_list:\n",
    "            continue\n",
    "        else:\n",
    "            word_list.append(word)\n",
    "word_list.sort()\n",
    "print(word_list)\n",
    "# #Other Solution\n",
    "# # prompts for the file name\n",
    "# fname = input('Enter file name: ')\n",
    "\n",
    "# # attempts to open the file\n",
    "# try:\n",
    "# \tfhandle = open(fname)\n",
    "# except:\n",
    "# \tprint('File cannot be opened:', fname)\n",
    "# \texit()\n",
    "\n",
    "# # creates an empty list to be used later\n",
    "# words = []\n",
    "\n",
    "# # turns each line into a list\n",
    "# for line in fhandle:\n",
    "# \tline = line.split()\n",
    "\n",
    "# # if the line is blank it moves to the next line\n",
    "# \tif len(line) == 0 : continue\n",
    "\n",
    "# # looks through each item in the list\n",
    "# \tfor word in line:\n",
    "\n",
    "# # if the item is in the list \"words\" it is skipped, otherwise it is added\t\n",
    "# \t\tif word in words : continue\n",
    "# \t\telse:\n",
    "# \t\t\twords.append(word)\n",
    "\n",
    "# # sorts the list in alphabetical order and prints\n",
    "# words.sort()\n",
    "# print(words)"
   ]
  },
  {
   "cell_type": "code",
   "execution_count": 38,
   "metadata": {},
   "outputs": [
    {
     "name": "stdout",
     "output_type": "stream",
     "text": [
      "Enter file name: romeo.txt\n",
      "['Arise', 'But', 'It', 'Juliet', 'Who', 'already', 'and', 'breaks', 'east', 'envious', 'fair', 'grief', 'is', 'kill', 'light', 'moon', 'pale', 'sick', 'soft', 'sun', 'the', 'through', 'what', 'window', 'with', 'yonder']\n"
     ]
    }
   ],
   "source": []
  },
  {
   "cell_type": "code",
   "execution_count": null,
   "metadata": {
    "collapsed": true
   },
   "outputs": [],
   "source": []
  }
 ],
 "metadata": {
  "kernelspec": {
   "display_name": "Python 3",
   "language": "python",
   "name": "python3"
  },
  "language_info": {
   "codemirror_mode": {
    "name": "ipython",
    "version": 3
   },
   "file_extension": ".py",
   "mimetype": "text/x-python",
   "name": "python",
   "nbconvert_exporter": "python",
   "pygments_lexer": "ipython3",
   "version": "3.6.1"
  }
 },
 "nbformat": 4,
 "nbformat_minor": 2
}
