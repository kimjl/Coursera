{
 "cells": [
  {
   "cell_type": "code",
   "execution_count": 11,
   "metadata": {},
   "outputs": [
    {
     "name": "stdout",
     "output_type": "stream",
     "text": [
      "Enter a number: 5\n",
      "Enter a number: 4\n",
      "Enter a number: 3\n",
      "Enter a number: 3\n",
      "Enter a number: 2\n",
      "Enter a number: 1\n",
      "Enter a number: done\n",
      "Average: 3.0\n",
      "Enter a number: 5\n",
      "Enter a number: 4\n",
      "Enter a number: 3\n",
      "Enter a number: 2\n",
      "Enter a number: 1\n",
      "Enter a number: done\n",
      "Average: 3.0\n"
     ]
    }
   ],
   "source": [
    "# #Concatenating\n",
    "# a = [1, 2, 3]\n",
    "# b = [4, 5, 6]\n",
    "# c = a + b\n",
    "# print(c)\n",
    "\n",
    "# #Slicing\n",
    "# t = [9, 41, 12, 13, 74, 15]\n",
    "# print(t[1:3])\n",
    "# print(t[:4])\n",
    "# print(t[3:])\n",
    "# print(t[:])\n",
    "\n",
    "# #List Methods\n",
    "# x = list()\n",
    "# type(x)\n",
    "# dir(x)\n",
    "\n",
    "# #Building a List from Scratch\n",
    "# stuff = list()\n",
    "# stuff.append('book')\n",
    "# stuff.append('99')\n",
    "# print(stuff)\n",
    "# stuff.append('cookie')\n",
    "# print(stuff)\n",
    "\n",
    "# #Something in a List\n",
    "# some = [1, 9, 21, 10, 16]\n",
    "# 9 in some\n",
    "\n",
    "# #Lists are in Order\n",
    "# friends = ['Joseph', 'Glenn', 'Sally']\n",
    "# friends.sort()\n",
    "# print(friends)\n",
    "# print(friends[1])\n",
    "\n",
    "# #Built in functions and lists\n",
    "# nums = [3, 41, 12, 9, 74, 15]\n",
    "# print(len(nums))\n",
    "# print(max(nums))\n",
    "# print(min(nums))\n",
    "# print(sum(nums))\n",
    "# print(sum(nums)/len(nums))\n",
    "\n",
    "# #Logic vs Data Structure Algorithm\n",
    "# total = 0\n",
    "# count = 0\n",
    "# while True:\n",
    "#     inp = input('Enter a number: ')\n",
    "#     if inp == 'done':\n",
    "#         break\n",
    "#     value = float(inp)\n",
    "#     total = total + value\n",
    "#     count = count + 1\n",
    "# average = total / count\n",
    "# print('Average:', average)\n",
    "\n",
    "# numlist = list()\n",
    "# while True:\n",
    "#     inp = input('Enter a number: ')\n",
    "#     if inp == 'done':\n",
    "#         break\n",
    "#     value = float(inp)\n",
    "#     numlist.append(value)\n",
    "# average = sum(numlist) / len(numlist)\n",
    "# print('Average:', average)\n",
    "\n"
   ]
  },
  {
   "cell_type": "markdown",
   "metadata": {},
   "source": [
    "### "
   ]
  }
 ],
 "metadata": {
  "kernelspec": {
   "display_name": "Python 3",
   "language": "python",
   "name": "python3"
  },
  "language_info": {
   "codemirror_mode": {
    "name": "ipython",
    "version": 3
   },
   "file_extension": ".py",
   "mimetype": "text/x-python",
   "name": "python",
   "nbconvert_exporter": "python",
   "pygments_lexer": "ipython3",
   "version": "3.6.1"
  }
 },
 "nbformat": 4,
 "nbformat_minor": 2
}
