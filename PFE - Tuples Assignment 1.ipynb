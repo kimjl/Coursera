{
 "cells": [
  {
   "cell_type": "code",
   "execution_count": 5,
   "metadata": {},
   "outputs": [
    {
     "name": "stdout",
     "output_type": "stream",
     "text": [
      "Enter file:mbox-short.txt\n",
      "[('04', 3), ('06', 1), ('07', 1), ('09', 2), ('10', 3), ('11', 6), ('14', 1), ('15', 2), ('16', 4), ('17', 2), ('18', 1), ('19', 1)]\n",
      "04 3\n",
      "06 1\n",
      "07 1\n",
      "09 2\n",
      "10 3\n",
      "11 6\n",
      "14 1\n",
      "15 2\n",
      "16 4\n",
      "17 2\n",
      "18 1\n",
      "19 1\n"
     ]
    }
   ],
   "source": [
    "#10.2 Write a program to read through the mbox-short.txt and figure out the distribution by hour of the day for each of \n",
    "    #the messages. You can pull the hour out from the 'From ' line by finding the time and then splitting the string a \n",
    "    #second time using a colon.\n",
    "    #From stephen.marquard@uct.ac.za Sat Jan  5 09:14:16 2008\n",
    "    #Once you have accumulated the counts for each hour, print out the counts, sorted by hour as shown below.\n",
    "    \n",
    "name = input(\"Enter file:\")\n",
    "if len(name) < 1 : name = \"mbox-short.txt\"\n",
    "handle = open(name)\n",
    "\n",
    "emails = dict()\n",
    "\n",
    "#Pulling out our hours and splitting the string and put it into a dict with key val as hour and number of times repeated\n",
    "for line in handle:\n",
    "    if line.startswith('From '):\n",
    "        line = line.split()\n",
    "        email = line[5]\n",
    "        email = email.split(':')\n",
    "        hour = email[0]\n",
    "        emails[hour] = emails.get(hour, 0) + 1\n",
    "#print(emails)\n",
    "\n",
    "hourlist = []\n",
    "\n",
    "#Getting a list of tuples from our dict then sorts it\n",
    "for k, v in emails.items():\n",
    "    hourlist.append((k, v))\n",
    "hourlist.sort()\n",
    "#print(hourlist)\n",
    "\n",
    "#Prints out our hour and count from our sorted hourlist\n",
    "for k, v in hourlist:\n",
    "    print(k, v)\n",
    "        \n",
    "        "
   ]
  },
  {
   "cell_type": "code",
   "execution_count": null,
   "metadata": {
    "collapsed": true
   },
   "outputs": [],
   "source": []
  }
 ],
 "metadata": {
  "kernelspec": {
   "display_name": "Python 3",
   "language": "python",
   "name": "python3"
  },
  "language_info": {
   "codemirror_mode": {
    "name": "ipython",
    "version": 3
   },
   "file_extension": ".py",
   "mimetype": "text/x-python",
   "name": "python",
   "nbconvert_exporter": "python",
   "pygments_lexer": "ipython3",
   "version": "3.6.1"
  }
 },
 "nbformat": 4,
 "nbformat_minor": 2
}
